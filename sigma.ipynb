{
 "cells": [
  {
   "cell_type": "code",
   "execution_count": 1,
   "id": "1dc3bbc1-1680-4c53-9a50-81f2a357f35d",
   "metadata": {},
   "outputs": [
    {
     "name": "stdout",
     "output_type": "stream",
     "text": [
      "HAPI version: 1.2.2.2\n",
      "To get the most up-to-date version please check http://hitran.org/hapi\n",
      "ATTENTION: Python versions of partition sums from TIPS-2021 are now available in HAPI code\n",
      "\n",
      "           MIT license: Copyright 2021 HITRAN team, see more at http://hitran.org. \n",
      "\n",
      "           If you use HAPI in your research or software development,\n",
      "           please cite it using the following reference:\n",
      "           R.V. Kochanov, I.E. Gordon, L.S. Rothman, P. Wcislo, C. Hill, J.S. Wilzewski,\n",
      "           HITRAN Application Programming Interface (HAPI): A comprehensive approach\n",
      "           to working with spectroscopic data, J. Quant. Spectrosc. Radiat. Transfer 177, 15-30 (2016)\n",
      "           DOI: 10.1016/j.jqsrt.2016.03.005\n",
      "\n",
      "           ATTENTION: This is the core version of the HITRAN Application Programming Interface.\n",
      "                      For more efficient implementation of the absorption coefficient routine, \n",
      "                      as well as for new profiles, parameters and other functional,\n",
      "                      please consider using HAPI2 extension library.\n",
      "                      HAPI2 package is available at http://github.com/hitranonline/hapi2\n",
      "\n"
     ]
    }
   ],
   "source": [
    "%matplotlib widget\n",
    "import numpy as np\n",
    "import matplotlib.pyplot as plt\n",
    "import scipy\n",
    "import os\n",
    "from read_bases import *\n",
    "from scipy import constants\n",
    "\n",
    "from cpfX import hum1zpf16m #for Humlıcek approximation\n",
    "from tqdm import tqdm #for loop time\n",
    "from hapi import *"
   ]
  },
  {
   "cell_type": "markdown",
   "id": "767df7f6-66c5-4f90-b229-c90d60680919",
   "metadata": {},
   "source": [
    "## Data exporting for different data bases"
   ]
  },
  {
   "cell_type": "code",
   "execution_count": 2,
   "id": "8a0aa657-932d-45b9-b285-75bcaca4857f",
   "metadata": {},
   "outputs": [
    {
     "name": "stdout",
     "output_type": "stream",
     "text": [
      "Reading \"65f81198.par\" ...\n",
      "Reading \"bezard_hotco2_1mu_cdsd.dat\" ...\n",
      "Reading \"Ames-2016.natural.co2.296k.list.long.format.dat\" ...\n"
     ]
    }
   ],
   "source": [
    "data_hitran = read_hitran2012_parfile('65f81198.par')\n",
    "data_hight = read_hight_file('bezard_hotco2_1mu_cdsd.dat')\n",
    "data_ames = read_ames_file('Ames-2016.natural.co2.296k.list.long.format.dat')"
   ]
  },
  {
   "cell_type": "markdown",
   "id": "3516465f-a5d2-44a1-bb82-3952d45b3cf3",
   "metadata": {},
   "source": [
    "### pressure, height, density, temperature profile of the atmoshpere with altitude "
   ]
  },
  {
   "cell_type": "code",
   "execution_count": 3,
   "id": "f82c276e-ceb8-4931-8cf8-ff291d03a2b2",
   "metadata": {},
   "outputs": [],
   "source": [
    "pressure, height, density, temperature = np.loadtxt('VIRAPROFILE.txt',skiprows = 1, unpack=True)"
   ]
  },
  {
   "cell_type": "markdown",
   "id": "f42bdfce-e4ae-4b45-b8b6-6df1cc2d6d8f",
   "metadata": {},
   "source": [
    "## Doppler and Lorentz"
   ]
  },
  {
   "cell_type": "code",
   "execution_count": 5,
   "id": "f9d354dc-7e4f-4e41-98b5-6d9485f5c6c9",
   "metadata": {},
   "outputs": [],
   "source": [
    "Na = scipy.constants.N_A # mol^-1\n",
    "ka  = 1.380649e-16 # erg K^−1\n",
    "c = 2.99792458e10 # cms^−1\n",
    "c2 = 1.4387769 # cm K\n",
    "\n",
    "def Do(w0,T, Molm):\n",
    "    \n",
    "    wD = w0/c*np.sqrt(2*Na*ka*T/Molm) \n",
    "\n",
    "    return wD\n",
    "\n",
    "def Lo(w0, p, T, gamma_self, p_self, pshift, n):\n",
    "    \n",
    "    wL = ((296/T)**n)*(gamma_self*p_self) #gamma_air*(p-p_self)+\n",
    "    \n",
    "    return wL"
   ]
  },
  {
   "cell_type": "markdown",
   "id": "06e08261-e0f6-49d9-a6e9-f4a2053042cd",
   "metadata": {},
   "source": [
    "## Wavenumber range"
   ]
  },
  {
   "cell_type": "code",
   "execution_count": 6,
   "id": "dffae7c3-f51a-4049-9e48-d3f1f52b491a",
   "metadata": {},
   "outputs": [],
   "source": [
    "#np.where((data_ames['linecenter'] >= 9400) & (data_ames['linecenter'] <= 11000))\n",
    "#data_ames['linecenter'][1044063:1107731]"
   ]
  },
  {
   "cell_type": "code",
   "execution_count": 7,
   "id": "b0721cd2-3d84-4413-a5df-501d4d425269",
   "metadata": {},
   "outputs": [
    {
     "data": {
      "text/plain": [
       "85743"
      ]
     },
     "execution_count": 7,
     "metadata": {},
     "output_type": "execute_result"
    }
   ],
   "source": [
    "i = 1032907 #1044063\n",
    "j = 1118650 #1107731\n",
    "m = j-i\n",
    "m"
   ]
  },
  {
   "cell_type": "markdown",
   "id": "4277fea2-e617-4bb7-aadf-3451fd55b2dc",
   "metadata": {},
   "source": [
    "## Data"
   ]
  },
  {
   "cell_type": "code",
   "execution_count": 8,
   "id": "f11549c5-a219-4faf-b2ae-92e982e4a55b",
   "metadata": {},
   "outputs": [],
   "source": [
    "E = np.array(data_ames['Epp'])[i:j]\n",
    "sw = np.array(data_ames['S'])[i:j]\n",
    "nu = np.array(data_ames['linecenter'])[i:j]\n",
    "iso = np.array(data_ames['I'])[i:j]\n",
    "\n",
    "gamma_self = np.array(data_ames['gamma-self'])[i:j]\n",
    "pshift = np.array(data_ames['delta'])[i:j]\n",
    "n = np.array(data_ames['N'])[i:j]\n",
    "Molm = 43.989830"
   ]
  },
  {
   "cell_type": "code",
   "execution_count": 9,
   "id": "0d8a3bf1-1547-4925-9f68-85696a653e05",
   "metadata": {},
   "outputs": [],
   "source": [
    "molar_mass = np.array([43.989830, 44.993185, 45.994076, 44.994045, 46.997431, 45.997400, 47.998320])\n",
    "mol_mass= []\n",
    "for j in np.arange(0,m):\n",
    "    if iso[j] == 1:\n",
    "        mol = molar_mass[0]\n",
    "    elif iso[j] == 2:\n",
    "        mol = molar_mass[1]\n",
    "    else:\n",
    "        mol = molar_mass[2]\n",
    "    mol_mass.append(mol)"
   ]
  },
  {
   "cell_type": "markdown",
   "id": "5e68a20a-6f70-4b31-bcea-3848370d2eb9",
   "metadata": {},
   "source": [
    "## Calculating cross-sections"
   ]
  },
  {
   "cell_type": "code",
   "execution_count": 10,
   "id": "ba5e6443-4106-4451-a4f5-6bee938d4cb6",
   "metadata": {},
   "outputs": [],
   "source": [
    "w = np.arange(9150, 11250.01, 0.1) #wavenumber range for calculating profiles 9400-1000.01 cm^-1 with cut-off ±250 cm^-1"
   ]
  },
  {
   "cell_type": "code",
   "execution_count": 11,
   "id": "362901a7-26e2-4c47-b1c2-39bd6655bfe6",
   "metadata": {},
   "outputs": [
    {
     "name": "stderr",
     "output_type": "stream",
     "text": [
      "100%|███████████████████████████████████████| 101/101 [1:49:42<00:00, 65.18s/it]\n"
     ]
    }
   ],
   "source": [
    "spectrum = []\n",
    "#Loop for viraprofile of temperature and pressure\n",
    "for l in tqdm(np.arange(0,101)):\n",
    "    \n",
    "    p_self = pressure[l]\n",
    "    T = temperature[l]\n",
    "    p = pressure[l]\n",
    "\n",
    "\n",
    "    wD = Do(nu,T, mol_mass) #calculating half-width at half-maximum for doppler \n",
    "    wL = Lo(nu, p, T, gamma_self, p_self, pshift, n) #for Lorentz \n",
    "    \n",
    "    #Calculating the spectrum of cross-sections\n",
    "    sigma = np.zeros(w.size)\n",
    "    for k in np.arange(0,m):\n",
    "        #Calculating line strength\n",
    "        Q = partitionSum(2,iso[k],296) #uses hapi module to calculate partition sums\n",
    "        Qt = partitionSum(2,iso[k],T)\n",
    "        intensities = sw[k]*Q/Qt*(np.exp(-c2*E[k]/T)/np.exp(-c2*E[k]/296))*(1 - np.exp(-c2*nu[k]/T))/(1 - np.exp(-c2*nu[k]/296))\n",
    "        ## ======================================================\n",
    "\n",
    "        nu[k] = nu[k] + pshift[k] *p \n",
    "        \n",
    "        #chi facotor \n",
    "        delta_nu = np.absolute(w - nu[k])\n",
    "    \n",
    "        mask1 = delta_nu < 3 \n",
    "        mask2 = (delta_nu > 3)&(delta_nu<20)\n",
    "        mask3 = (delta_nu > 20)&(delta_nu<120)\n",
    "        mask4 = (delta_nu>120)&(delta_nu<250)\n",
    "        mask5 = delta_nu>250 #line cut-off\n",
    "\n",
    "        chi1 = np.ones(delta_nu[mask1].shape)\n",
    "    \n",
    "        chi2 = 1.22*np.exp(-delta_nu[mask2]/15)\n",
    "    \n",
    "        chi3 = 0.3477*np.exp(-delta_nu[mask3]/260)\n",
    "    \n",
    "        chi4 = 0.7276*np.exp(-delta_nu[mask4]/100)\n",
    "\n",
    "        chi5 = 0\n",
    "        \n",
    "        #Calculating voight profiles with Humlıcek approximation\n",
    " \n",
    "        y = wL[k] / wD[k]\n",
    "        x = (w-nu[k]) / wD[k]\n",
    "\n",
    "        scale = 1/(wD[k]*np.sqrt(np.pi))\n",
    "        \n",
    "        profile = hum1zpf16m(x, y)*scale\n",
    "\n",
    "        \n",
    "        profile[mask1] = profile[mask1]*chi1\n",
    "        profile[mask2] = profile[mask2]*chi2\n",
    "        profile[mask3] = profile[mask3]*chi3\n",
    "        profile[mask4] = profile[mask4]*chi4\n",
    "        profile[mask5] = profile[mask5]*chi5\n",
    "        \n",
    " \n",
    "        # calculating cross_sections\n",
    "    \n",
    "        cross_section = profile*intensities\n",
    "        cross_section = cross_section.real\n",
    "        \n",
    "    \n",
    "        # calculating spectrum\n",
    "        sigma += cross_section\n",
    "        \n",
    "    spectrum.append(sigma)"
   ]
  },
  {
   "cell_type": "markdown",
   "id": "aa21e743-516f-4e04-a7e3-ddf00d09d85f",
   "metadata": {},
   "source": [
    "## Calculating extinction"
   ]
  },
  {
   "cell_type": "code",
   "execution_count": 19,
   "id": "5b53d71f-2ad2-4a81-9bc2-62fce46c97ff",
   "metadata": {},
   "outputs": [
    {
     "name": "stderr",
     "output_type": "stream",
     "text": [
      "100%|███████████████████████████████████████| 101/101 [00:00<00:00, 3863.21it/s]\n"
     ]
    }
   ],
   "source": [
    "ex = density*1e5\n",
    "ex_profiles = []\n",
    "for z in tqdm(np.arange(0,101)):\n",
    "    ep = spectrum[z]*ex[z]\n",
    "    ex_profiles.append(ep)"
   ]
  },
  {
   "cell_type": "code",
   "execution_count": 20,
   "id": "a9c9402f-d16e-497a-9ae6-7529ee5d8ed6",
   "metadata": {},
   "outputs": [
    {
     "data": {
      "text/plain": [
       "(101, 16001)"
      ]
     },
     "execution_count": 20,
     "metadata": {},
     "output_type": "execute_result"
    }
   ],
   "source": [
    "ex_profiles = np.asarray(ex_profiles)\n",
    "ex_profiles[:,2500:18501].shape"
   ]
  },
  {
   "cell_type": "markdown",
   "id": "00f71d63-a27c-4c36-b64a-85e8a81bf6a5",
   "metadata": {},
   "source": [
    "## Exporting to binary file"
   ]
  },
  {
   "cell_type": "code",
   "execution_count": 21,
   "id": "975ed678-9f2e-4681-80ef-88188a4aaab5",
   "metadata": {},
   "outputs": [
    {
     "data": {
      "text/plain": [
       "(101, 16001)"
      ]
     },
     "execution_count": 21,
     "metadata": {},
     "output_type": "execute_result"
    }
   ],
   "source": [
    "ex_profiles = np.asarray(ex_profiles)\n",
    "ex_profiles_final = ex_profiles[:,2500:18501]  #selecting the right range of values \n",
    "rev = ex_profiles_final[::-1]\n",
    "rev.shape"
   ]
  },
  {
   "cell_type": "code",
   "execution_count": 22,
   "id": "50df218f-5681-4340-aafe-7cf99667f9c7",
   "metadata": {},
   "outputs": [],
   "source": [
    "rev.tofile('EXTCLCO2_input_disort_venus10', format = '%02.0f') #exporting to binary file"
   ]
  }
 ],
 "metadata": {
  "kernelspec": {
   "display_name": "Python 3 (ipykernel)",
   "language": "python",
   "name": "python3"
  },
  "language_info": {
   "codemirror_mode": {
    "name": "ipython",
    "version": 3
   },
   "file_extension": ".py",
   "mimetype": "text/x-python",
   "name": "python",
   "nbconvert_exporter": "python",
   "pygments_lexer": "ipython3",
   "version": "3.12.1"
  }
 },
 "nbformat": 4,
 "nbformat_minor": 5
}
