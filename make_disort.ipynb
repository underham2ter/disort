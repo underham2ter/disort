{
 "cells": [
  {
   "cell_type": "code",
   "execution_count": 1,
   "metadata": {
    "scrolled": true
   },
   "outputs": [
    {
     "name": "stdout",
     "output_type": "stream",
     "text": [
      "Requirement already satisfied: numpy==1.25.0 in c:\\users\\underhamster\\miniconda3\\envs\\py311\\lib\\site-packages (1.25.0)\n"
     ]
    }
   ],
   "source": [
    "# !pip install numpy==1.25.0"
   ]
  },
  {
   "cell_type": "code",
   "execution_count": 3,
   "metadata": {},
   "outputs": [
    {
     "data": {
      "text/plain": [
       "'1.25.0'"
      ]
     },
     "execution_count": 3,
     "metadata": {},
     "output_type": "execute_result"
    }
   ],
   "source": [
    "import numpy as np\n",
    "# must be lower than 1.26.x\n",
    "np.version.version"
   ]
  },
  {
   "cell_type": "code",
   "execution_count": 1,
   "metadata": {},
   "outputs": [
    {
     "name": "stdout",
     "output_type": "stream",
     "text": [
      "gcc (MinGW-W64 x86_64-ucrt-posix-seh, built by Brecht Sanders, r3) 14.1.0\n",
      "Copyright (C) 2024 Free Software Foundation, Inc.\n",
      "This is free software; see the source for copying conditions.  There is NO\n",
      "warranty; not even for MERCHANTABILITY or FITNESS FOR A PARTICULAR PURPOSE.\n",
      "\n",
      "GNU Fortran (MinGW-W64 x86_64-ucrt-posix-seh, built by Brecht Sanders, r3) 14.1.0\n",
      "Copyright (C) 2024 Free Software Foundation, Inc.\n",
      "This is free software; see the source for copying conditions.  There is NO\n",
      "warranty; not even for MERCHANTABILITY or FITNESS FOR A PARTICULAR PURPOSE.\n",
      "\n",
      "Python 3.12.4\n"
     ]
    }
   ],
   "source": [
    "!gcc --version\n",
    "!gfortran --version\n",
    "\n",
    "# must be 3.11.9 or lower\n",
    "!python --version"
   ]
  },
  {
   "cell_type": "code",
   "execution_count": 3,
   "metadata": {
    "scrolled": true
   },
   "outputs": [
    {
     "name": "stdout",
     "output_type": "stream",
     "text": [
      "{'before': '', 'this': 'intent', 'after': '(in)   :: iphas, gg,'}\n",
      "WARN: Could not locate executable g77\n",
      "WARN: Could not locate executable f77\n",
      "WARN: Could not locate executable ifort\n",
      "WARN: Could not locate executable ifl\n",
      "WARN: Could not locate executable f90\n",
      "WARN: Could not locate executable DF\n",
      "WARN: Could not locate executable efl\n"
     ]
    },
    {
     "name": "stderr",
     "output_type": "stream",
     "text": [
      "rmbadname1: Replacing \"float\" with \"float_bn\".\n",
      "rmbadname1: Replacing \"len\" with \"len_bn\".\n",
      "rmbadname1: Replacing \"max\" with \"max_bn\".\n",
      "rmbadname1: Replacing \"min\" with \"min_bn\".\n",
      "rmbadname1: Replacing \"max\" with \"max_bn\".\n",
      "rmbadname1: Replacing \"min\" with \"min_bn\".\n",
      "rmbadname1: Replacing \"min\" with \"min_bn\".\n",
      "rmbadname1: Replacing \"float\" with \"float_bn\".\n",
      "rmbadname1: Replacing \"max\" with \"max_bn\".\n",
      "rmbadname1: Replacing \"min\" with \"min_bn\".\n",
      "rmbadname1: Replacing \"max\" with \"max_bn\".\n",
      "rmbadname1: Replacing \"min\" with \"min_bn\".\n",
      "rmbadname1: Replacing \"min\" with \"min_bn\".\n",
      "rmbadname1: Replacing \"max\" with \"max_bn\".\n",
      "rmbadname1: Replacing \"min\" with \"min_bn\".\n",
      "rmbadname1: Replacing \"float\" with \"float_bn\".\n",
      "rmbadname1: Replacing \"index\" with \"index_bn\".\n",
      "C:\\Users\\underhamster\\miniconda3\\envs\\py311\\Lib\\site-packages\\setuptools\\_distutils\\cmd.py:66: SetuptoolsDeprecationWarning: setup.py install is deprecated.\n",
      "!!\n",
      "\n",
      "        ********************************************************************************\n",
      "        Please avoid running ``setup.py`` directly.\n",
      "        Instead, use pypa/build, pypa/installer or other\n",
      "        standards-based tools.\n",
      "\n",
      "        See https://blog.ganssle.io/articles/2021/10/setup-py-deprecated.html for details.\n",
      "        ********************************************************************************\n",
      "\n",
      "!!\n",
      "  self.initialize_options()\n"
     ]
    }
   ],
   "source": [
    "!f2py -c src/BDREF.f src/DISORT.f src/ERRPACK.f src/LINPAK.f src/RDI1MACH.f src/GETMOM.f src/PRTFIN.f src/DRIVER.f -m disort --quiet"
   ]
  },
  {
   "cell_type": "code",
   "execution_count": 1,
   "metadata": {},
   "outputs": [],
   "source": [
    "import disort"
   ]
  },
  {
   "cell_type": "code",
   "execution_count": 4,
   "metadata": {},
   "outputs": [],
   "source": [
    "if __name__ == '__main__':\n",
    "# if True:\n",
    "    uTau   = np.array([0.,1.])\n",
    "    phi    = np.array([0.,60.,120.])\n",
    "    fbeam  = 1.\n",
    "    umu0   = 1./np.sqrt(2.)\n",
    "    phi0   = 0.0\n",
    "    albedo = 0.1\n",
    "    umu    = np.array([-1.,-0.5,0.5,1.])\n",
    "    \n",
    "    # dTau   = np.ones(50)*1./50\n",
    "    # w0     = np.ones(50)*1.\n",
    "    # iphas  = np.ones(50,dtype='int')*2\n",
    "    # gg     = np.ones(50)*0.85\n",
    "\n",
    "    # [rfldir, rfldn, flup, dfdt, uavg, uu, albmed, trnmed] =\\\n",
    "    #                                 disort.run(dTau, w0=w0, iphas=iphas, gg=gg,\n",
    "    #                                            umu0=umu0, phi0=phi0, albedo=albedo, fbeam=fbeam,\n",
    "    #                                            utau=uTau, umu=umu, phi=phi)\n",
    "\n",
    "    # CASE IMPLEMENTED IN run_disort.f\n",
    "    temper =  np.array([300, 300, 300, 300, 300, 300, 300])\n",
    "    dTau  = np.array([0.0, 0.0, 0.0, 1.0, 0.0, 0.0])\n",
    "    iphas = np.array([2, 2, 2, 3, 2, 2])\n",
    "    w0    = np.array([0.5, 0.5, 0.5, 0.899999976, 0.5, 0.5])\n",
    "    N = len(dTau)\n",
    "    gg     = np.ones(N)*0.85\n",
    "    prnt   = np.array([True, True, True, False, True])\n",
    "\n",
    "    [rfldir, rfldn, flup, dfdt, uavg, uu, albmed, trnmed] =\\\n",
    "                                    disort.run(dtauc=dTau, ssalb=w0, iphas=iphas, gg=gg,\n",
    "                                                umu0=umu0, phi0=phi0, albedo=albedo, fbeam=fbeam,\n",
    "                                                usrtau=True, utau=uTau, usrang=True, umu=umu,\n",
    "                                                phi=phi, nstr=32, maxmom=299, lamber=True,\n",
    "                                                onlyfl=False, accur=0., plank=False,\n",
    "                                                temper=temper, wvnmlo=999., wvnmhi=1000.,\n",
    "                                                ibcnd=0, fisot=0., btemp=300., ttemp=300.,\n",
    "                                                temis=1., prnt=prnt)"
   ]
  },
  {
   "cell_type": "code",
   "execution_count": 5,
   "metadata": {},
   "outputs": [
    {
     "name": "stdout",
     "output_type": "stream",
     "text": [
      "\n",
      "# Energy conservation, R(TOA)+T(BOA)*(1-albedo) ~ 1:  1.000\n"
     ]
    },
    {
     "data": {
      "image/png": "[encoded data removed]",
      "text/plain": [
       "<Figure size 640x480 with 1 Axes>"
      ]
     },
     "metadata": {},
     "output_type": "display_data"
    },
    {
     "data": {
      "image/png": "[encoded data removed]",
      "text/plain": [
       "<Figure size 640x480 with 1 Axes>"
      ]
     },
     "metadata": {},
     "output_type": "display_data"
    }
   ],
   "source": [
    "import os\n",
    "import matplotlib.pyplot as plt\n",
    "##########################################################################################################\n",
    "\n",
    "if __name__ == '__main__':\n",
    "\n",
    "    cwd = os.getcwd()\n",
    "    # read Rayleigh optical thickness for 325.8 nm [Ozone fitting window]\n",
    "    xy     = np.loadtxt(os.path.join(cwd, '', 'src/rayleigh_layer_opd.txt'))\n",
    "    dTau   = xy[::-1,1]  # FROM TOP TO BOTTOM\n",
    "    z_atm  = xy[::-1,0]  # last altitude value missing, find in header\n",
    "    z_atm  = np.insert(z_atm, 0, 120.)\n",
    "\n",
    "    N_tau  = len(dTau)\n",
    "    w0     = np.ones(N_tau)*1.\n",
    "    iphas  = np.ones(N_tau,dtype='int')*2\n",
    "    gg     = np.zeros(N_tau)\n",
    "    temper = np.ones(N_tau+1)*1000\n",
    "    cumTau = np.hstack([0.,dTau.cumsum()])\n",
    "    uTau   = cumTau\n",
    "    phi    = np.array([0.,60.,120.])\n",
    "    umu0   = 1./np.sqrt(2.)\n",
    "    fbeam  = 1./umu0  # Ensures fluxes to be normalized to one\n",
    "    phi0   = 0.0\n",
    "    albedo = 0.1\n",
    "    umu    = np.array([-1.,-0.5,0.5,1.])\n",
    "    prnt   = np.array([True, True, True, False, True])\n",
    "\n",
    "    [rfldir, rfldn, flup, dfdt, uavg, uu, albmed, trnmed] =\\\n",
    "                                      disort.run(dtauc=dTau, ssalb=w0, iphas=iphas, gg=gg,\n",
    "                                                 umu0=umu0, phi0=phi0, albedo=albedo, fbeam=fbeam,\n",
    "                                                 utau=uTau, umu=umu, phi=phi, prnt=prnt, usrtau=True, usrang=True, nstr=32, \n",
    "                                                 maxmom=299, lamber=True,\n",
    "                                                 onlyfl=False, accur=0., plank=False,\n",
    "                                                 temper=temper, wvnmlo=999., wvnmhi=1000.,\n",
    "                                                 ibcnd=0, fisot=0., btemp=300., ttemp=300.,\n",
    "                                                 temis=1.)\n",
    "\n",
    "    rfltot = rfldir + rfldn\n",
    "    print('\\n# Energy conservation, R(TOA)+T(BOA)*(1-albedo) ~ 1:  %.3f' % (flup[0] + rfltot[-1]*(1.-albedo)))\n",
    "\n",
    "    plt.figure()\n",
    "    plt.plot(rfltot, z_atm)\n",
    "\n",
    "    plt.figure()\n",
    "    plt.plot(flup, z_atm)"
   ]
  },
  {
   "cell_type": "code",
   "execution_count": 6,
   "metadata": {},
   "outputs": [
    {
     "name": "stdout",
     "output_type": "stream",
     "text": [
      "50\n"
     ]
    }
   ],
   "source": [
    "print(len(cumTau))"
   ]
  }
 ],
 "metadata": {
  "colab": {
   "provenance": []
  },
  "kernelspec": {
   "display_name": "Python 3.11.9",
   "language": "python",
   "name": "py311"
  },
  "language_info": {
   "codemirror_mode": {
    "name": "ipython",
    "version": 3
   },
   "file_extension": ".py",
   "mimetype": "text/x-python",
   "name": "python",
   "nbconvert_exporter": "python",
   "pygments_lexer": "ipython3",
   "version": "3.11.9"
  }
 },
 "nbformat": 4,
 "nbformat_minor": 4
}
